{
 "cells": [
  {
   "cell_type": "code",
   "execution_count": null,
   "metadata": {},
   "outputs": [],
   "source": [
    "from APOSMMRunner import APOSMMRunner, GraphType\n",
    "from QAOAPlotter import QAOAPlotter\n",
    "\n",
    "# Initialize APOSMMRunner\n",
    "aposmm_runner = APOSMMRunner()\n",
    "\n",
    "# Define graph types and p-values to consider\n",
    "graph_types = [GraphType.RANDOM_3_REGULAR, GraphType.RANDOM_9_REGULAR, GraphType.ERDOS_RENYI]\n",
    "p_values = [2, 4, 8]\n",
    "\n",
    "# Run APOSMM optimization for all graph types and p-values\n",
    "aposmm_runner.run_aposmm_for_all_graphs(graph_types, p_values)\n",
    "\n",
    "# Plot the expected number of repetitions for QAOA results\n",
    "qaoa_plotter = QAOAPlotter(aposmm_runner.qaoa_results)\n",
    "qaoa_plotter.plot_expected_repetitions()\n"
   ]
  }
 ],
 "metadata": {
  "language_info": {
   "name": "python"
  },
  "orig_nbformat": 4
 },
 "nbformat": 4,
 "nbformat_minor": 2
}
